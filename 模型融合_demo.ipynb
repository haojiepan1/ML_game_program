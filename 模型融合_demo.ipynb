{
 "cells": [
  {
   "cell_type": "code",
   "execution_count": 3,
   "metadata": {},
   "outputs": [
    {
     "data": {
      "text/plain": [
       "array([1, 0], dtype=int64)"
      ]
     },
     "execution_count": 3,
     "metadata": {},
     "output_type": "execute_result"
    }
   ],
   "source": [
    "import pandas as pd\n",
    "data='pima-indians-diabetes.data.csv'\n",
    "names=['preg', 'plas', 'pres', 'skin', 'test', 'mass', 'pedi', 'age', 'class']\n",
    "df = pd.read_csv(data,names=names)\n",
    "df['class'].unique()"
   ]
  },
  {
   "cell_type": "code",
   "execution_count": 6,
   "metadata": {},
   "outputs": [],
   "source": [
    "from sklearn import model_selection\n",
    "from sklearn.linear_model import LogisticRegression\n",
    "from sklearn.tree import DecisionTreeClassifier\n",
    "from sklearn.ensemble import VotingClassifier\n",
    "from sklearn.svm import SVC\n",
    "import warnings\n",
    "warnings.filterwarnings('ignore')"
   ]
  },
  {
   "cell_type": "markdown",
   "metadata": {},
   "source": [
    "#### 0.voting融合"
   ]
  },
  {
   "cell_type": "code",
   "execution_count": 7,
   "metadata": {},
   "outputs": [
    {
     "name": "stdout",
     "output_type": "stream",
     "text": [
      "[0.73376623 0.68181818 0.72727273 0.81699346 0.73856209]\n"
     ]
    }
   ],
   "source": [
    "array = df.values\n",
    "X = array[:,0:8]\n",
    "Y = array[:,8]\n",
    "kfold = model_selection.KFold(n_splits=5,random_state=2018)\n",
    "\n",
    "#创建投票器子模型\n",
    "estimators = []\n",
    "model_1 = LogisticRegression()\n",
    "estimators.append(('logistic',model_1))\n",
    "\n",
    "model_2 = DecisionTreeClassifier()\n",
    "estimators.append(('dt',model_2))\n",
    "\n",
    "model_3 = SVC()\n",
    "estimators.append(('svm',model_3))\n",
    "\n",
    "#投票器融合\n",
    "ensemble = VotingClassifier(estimators)\n",
    "result = model_selection.cross_val_score(ensemble,X,Y,cv=kfold)\n",
    "print(result)"
   ]
  },
  {
   "cell_type": "markdown",
   "metadata": {},
   "source": [
    "#### 1.Bagging"
   ]
  },
  {
   "cell_type": "code",
   "execution_count": 8,
   "metadata": {},
   "outputs": [
    {
     "name": "stdout",
     "output_type": "stream",
     "text": [
      "0.764349376114082\n"
     ]
    }
   ],
   "source": [
    "from sklearn.ensemble import BaggingClassifier\n",
    "dt = DecisionTreeClassifier()\n",
    "num = 100\n",
    "kfold = model_selection.KFold(n_splits=5,random_state=2018)\n",
    "model = BaggingClassifier(base_estimator=dt,n_estimators=num,random_state=2018)\n",
    "result = model_selection.cross_val_score(model,X,Y,cv=kfold)\n",
    "print(result.mean())"
   ]
  },
  {
   "cell_type": "markdown",
   "metadata": {},
   "source": [
    "#### 2.Randomforest"
   ]
  },
  {
   "cell_type": "code",
   "execution_count": 9,
   "metadata": {},
   "outputs": [
    {
     "name": "stdout",
     "output_type": "stream",
     "text": [
      "0.7709192768016297\n"
     ]
    }
   ],
   "source": [
    "from sklearn.ensemble import RandomForestClassifier\n",
    "num_trees = 100\n",
    "max_feature_num = 5\n",
    "kfold = model_selection.KFold(n_splits=5,random_state=2018)\n",
    "model = RandomForestClassifier(n_estimators=num_trees,max_features=max_feature_num)\n",
    "result = model_selection.cross_val_score(model,X,Y,cv=kfold)\n",
    "print(result.mean())"
   ]
  },
  {
   "cell_type": "markdown",
   "metadata": {},
   "source": [
    "#### Adaboost"
   ]
  },
  {
   "cell_type": "code",
   "execution_count": 11,
   "metadata": {},
   "outputs": [
    {
     "name": "stdout",
     "output_type": "stream",
     "text": [
      "0.7513623631270689\n"
     ]
    }
   ],
   "source": [
    "from sklearn.ensemble import AdaBoostClassifier\n",
    "num_trees = 25\n",
    "kfold = model_selection.KFold(n_splits=5,random_state=2018)\n",
    "model = AdaBoostClassifier(n_estimators=num_trees,random_state=2018)\n",
    "result = model_selection.cross_val_score(model,X,Y,cv=kfold)\n",
    "print(result.mean())"
   ]
  }
 ],
 "metadata": {
  "kernelspec": {
   "display_name": "Python 3",
   "language": "python",
   "name": "python3"
  },
  "language_info": {
   "codemirror_mode": {
    "name": "ipython",
    "version": 3
   },
   "file_extension": ".py",
   "mimetype": "text/x-python",
   "name": "python",
   "nbconvert_exporter": "python",
   "pygments_lexer": "ipython3",
   "version": "3.6.7"
  }
 },
 "nbformat": 4,
 "nbformat_minor": 2
}
