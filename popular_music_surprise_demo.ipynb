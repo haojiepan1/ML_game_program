{
 "cells": [
  {
   "cell_type": "code",
   "execution_count": 131,
   "metadata": {},
   "outputs": [],
   "source": [
    "import os\n",
    "import io\n",
    "from surprise import KNNBaseline\n",
    "from surprise import Dataset\n",
    "import pickle\n",
    "from surprise import Reader,Dataset"
   ]
  },
  {
   "cell_type": "code",
   "execution_count": 132,
   "metadata": {},
   "outputs": [
    {
     "name": "stdout",
     "output_type": "stream",
     "text": [
      "加载歌单id到歌单名的映射字典完成...\n",
      "加载歌单名到歌单id 的映射字典完成...\n",
      "构建数据集...\n"
     ]
    }
   ],
   "source": [
    "id_name_dic = pickle.load(open('popular_playlist.pkl','rb'),encoding='utf-8')\n",
    "print('加载歌单id到歌单名的映射字典完成...')\n",
    "\n",
    "name_id_dic = {}\n",
    "for playlist_id in id_name_dic:\n",
    "    name_id_dic[id_name_dic[playlist_id]] = playlist_id\n",
    "print('加载歌单名到歌单id 的映射字典完成...')\n",
    "\n",
    "file_path = os.path.expanduser('./popular_music_suprise_format.txt')\n",
    "reader = Reader(line_format='user item rating timestamp',sep=',')\n",
    "music_data = Dataset.load_from_file(file_path,reader = reader)\n",
    "print('构建数据集...')\n",
    "trainset = music_data.build_full_trainset()\n"
   ]
  },
  {
   "cell_type": "code",
   "execution_count": 133,
   "metadata": {},
   "outputs": [
    {
     "name": "stdout",
     "output_type": "stream",
     "text": [
      "开始训练模型...\n",
      "Estimating biases using als...\n",
      "Computing the msd similarity matrix...\n",
      "Done computing similarity matrix.\n",
      "周杰伦公举歌曲大全(专辑发行顺序)，循环专\n"
     ]
    }
   ],
   "source": [
    "print(\"开始训练模型...\")\n",
    "algo = KNNBaseline()\n",
    "algo.train(trainset)\n",
    "current_playlist = list(name_id_dic.keys())[39]\n",
    "print(current_playlist)"
   ]
  },
  {
   "cell_type": "code",
   "execution_count": 134,
   "metadata": {},
   "outputs": [
    {
     "name": "stdout",
     "output_type": "stream",
     "text": [
      "91166678\n",
      "834\n"
     ]
    }
   ],
   "source": [
    "#取出最近邻\n",
    "palylist_id = name_id_dic[current_playlist]  #歌单id\n",
    "print(playlist_id)\n",
    "playlist_inner_id = algo.trainset.to_inner_uid(playlist_id) #内部id\n",
    "print(playlist_inner_id)"
   ]
  },
  {
   "cell_type": "code",
   "execution_count": 135,
   "metadata": {},
   "outputs": [
    {
     "name": "stdout",
     "output_type": "stream",
     "text": [
      "\n",
      "和歌单《 周杰伦公举歌曲大全(专辑发行顺序)，循环专 》最接近的十个歌单是：\n",
      "\n",
      "当过千评论的华语翻唱遇上“原唱”【更新】\n",
      "【华语】暖心物语 纯白思念\n",
      "〖循环〗单曲循环是强迫症吗？\n",
      "周杰伦地表最强演唱会2017520南京站曲目\n",
      "简单的爱总是那么吸引人\n",
      "别让时光偷走你上扬的嘴角\n",
      "你就是我生命中最美丽的比喻句\n",
      "专属你的周杰伦\n",
      "听华语中的爵士味道，别样慵懒\n",
      "「华语歌曲」\n"
     ]
    }
   ],
   "source": [
    "playlist_neighbors = algo.get_neighbors(playlist_inner_id,k=10) #取出最近的10个歌单\n",
    "playlist_neighbors = (algo.trainset.to_raw_uid(inner_id) for inner_id in playlist_neighbors)  #内部id->歌单id\n",
    "playlist_neighbors = (id_name_dic[playlist_id] for playlist_id in playlist_neighbors)  #歌单id对应歌单\n",
    "print()\n",
    "print('和歌单《',current_playlist,'》最接近的十个歌单是：\\n')\n",
    "for playlist in playlist_neighbors:内部\n",
    "    print(playlist)"
   ]
  }
 ],
 "metadata": {
  "kernelspec": {
   "display_name": "Python 3",
   "language": "python",
   "name": "python3"
  },
  "language_info": {
   "codemirror_mode": {
    "name": "ipython",
    "version": 3
   },
   "file_extension": ".py",
   "mimetype": "text/x-python",
   "name": "python",
   "nbconvert_exporter": "python",
   "pygments_lexer": "ipython3",
   "version": "3.6.7"
  }
 },
 "nbformat": 4,
 "nbformat_minor": 2
}
