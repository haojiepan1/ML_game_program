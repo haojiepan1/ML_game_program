{
 "cells": [
  {
   "cell_type": "code",
   "execution_count": 1,
   "metadata": {},
   "outputs": [],
   "source": [
    "users = {\"小明\": {\"中国合伙人\": 5.0, \"太平轮\": 3.0, \"荒野猎人\": 4.5, \"老炮儿\": 5.0, \"我的少女时代\": 3.0, \"肖洛特烦恼\": 4.5, \"火星救援\": 5.0},\n",
    "         \"小红\":{\"小时代4\": 4.0, \"荒野猎人\": 3.0, \"我的少女时代\": 5.0, \"肖洛特烦恼\": 5.0, \"火星救援\": 3.0, \"后会无期\": 3.0},\n",
    "         \"小阳\": {\"小时代4\": 2.0, \"中国合伙人\": 5.0, \"我的少女时代\": 3.0, \"老炮儿\": 5.0, \"肖洛特烦恼\": 4.5, \"速度与激情7\": 5.0},\n",
    "         \"小四\": {\"小时代4\": 5.0, \"中国合伙人\": 3.0, \"我的少女时代\": 4.0, \"匆匆那年\": 4.0, \"速度与激情7\": 3.5, \"火星救援\": 3.5, \"后会无期\": 4.5},\n",
    "         \"六爷\": {\"小时代4\": 2.0, \"中国合伙人\": 4.0, \"荒野猎人\": 4.5, \"老炮儿\": 5.0, \"我的少女时代\": 2.0},\n",
    "         \"小李\":  {\"荒野猎人\": 5.0, \"盗梦空间\": 5.0, \"我的少女时代\": 3.0, \"速度与激情7\": 5.0, \"蚁人\": 4.5, \"老炮儿\": 4.0, \"后会无期\": 3.5},\n",
    "         \"隔壁老王\": {\"荒野猎人\": 5.0, \"中国合伙人\": 4.0, \"我的少女时代\": 1.0, \"Phoenix\": 5.0, \"甄嬛传\": 4.0, \"The Strokes\": 5.0},\n",
    "         \"邻村小芳\": {\"小时代4\": 4.0, \"我的少女时代\": 4.5, \"匆匆那年\": 4.5, \"甄嬛传\": 2.5, \"The Strokes\": 3.0}\n",
    "        }"
   ]
  },
  {
   "cell_type": "code",
   "execution_count": 3,
   "metadata": {},
   "outputs": [],
   "source": [
    "#定义欧式距离\n",
    "def enclidean_dis(rating1,rating2):  #输入rating1和2都是打分dict\n",
    "    distance=0\n",
    "    commonRatings = False\n",
    "    for key in rating1:\n",
    "        if key in rating2:\n",
    "            distance += (rating1[key]-rating2[key])**2\n",
    "            commonRatings = True\n",
    "        \n",
    "    #两个打分序列有共同电影：\n",
    "    if commonRatings:\n",
    "        return distance\n",
    "    \n",
    "    #没有共同电影\n",
    "    else:\n",
    "        return -1"
   ]
  },
  {
   "cell_type": "code",
   "execution_count": 4,
   "metadata": {},
   "outputs": [],
   "source": [
    "#定义曼哈顿距离\n",
    "def manhattan_dis(rating1,rating2):\n",
    "    distance=0\n",
    "    commonRating=False\n",
    "    for key in rating1:\n",
    "        if key in rating2:\n",
    "            distance += abs(rating1[key]-rating2[key])\n",
    "            commonRating = True\n",
    "            \n",
    "    if commonRatings:\n",
    "        return distance\n",
    "    else:\n",
    "        return -1\n"
   ]
  },
  {
   "cell_type": "markdown",
   "metadata": {},
   "source": [
    "#### 余弦相似度公式：\n",
    "![余弦相似度](./余弦相似度.png)"
   ]
  },
  {
   "cell_type": "code",
   "execution_count": 7,
   "metadata": {},
   "outputs": [],
   "source": [
    "from math import sqrt\n",
    "#定义余弦距离\n",
    "def cos_dis(rating1,rating2):\n",
    "    distance=0\n",
    "    commonRatings=False\n",
    "    dot_product_1=0\n",
    "    dot_product_2=0\n",
    "    for score in rating1.values():\n",
    "        dot_product_1 += score**2\n",
    "    for score in rating2.values():\n",
    "        dot_product_2 += score**2\n",
    "    for key in rating1:\n",
    "        if key in rating2:\n",
    "            distance += rating1[key]*rating2[key]\n",
    "            commonRatings=True\n",
    "            \n",
    "    if commonRatings:\n",
    "        return 1-distance/sqrt(dot_product_1*dot_product_2)  #公式如图\n",
    "    else:\n",
    "        return -1"
   ]
  },
  {
   "cell_type": "markdown",
   "metadata": {},
   "source": [
    "#### 皮尔逊相似度\n",
    "![pearson](./皮尔逊相似度.png)"
   ]
  },
  {
   "cell_type": "code",
   "execution_count": 9,
   "metadata": {},
   "outputs": [],
   "source": [
    "#定义皮尔逊相似度\n",
    "def pearson_dis(rating1,rating2):\n",
    "    sum_xy = 0\n",
    "    sum_x = 0\n",
    "    sum_y = 0\n",
    "    sum_x2 = 0\n",
    "    sum_y2 = 0\n",
    "    n = 0\n",
    "    for key in rating1:\n",
    "        if key in rating2:\n",
    "            n += 1\n",
    "            x = rating1[key]\n",
    "            y = rating2[key]\n",
    "            sum_xy += x*y\n",
    "            sum_x += x\n",
    "            sum_y += y\n",
    "            sum_x2 += pow(x,2)\n",
    "            sum_y2 += pow(y,2)  #y的2次方\n",
    "    denominator = sqrt(sum_x2-pow(sum_x,2)/n)*sqrt(sum_y2-pow(sum_y,2)/n) #分母\n",
    "    if denominator ==0:\n",
    "        return 0\n",
    "    else:\n",
    "        return (sum_xy-(sum_x*sum_y)/n)/denominator  #皮尔逊相似度公式如图"
   ]
  },
  {
   "cell_type": "code",
   "execution_count": 10,
   "metadata": {},
   "outputs": [],
   "source": [
    "#查找最近邻\n",
    "def computeNearestNeighbor(username,users):\n",
    "    distances = []\n",
    "    for user in users:\n",
    "        if user != username:\n",
    "            distance = pearson_dis(users[user],users[username])\n",
    "            distances.append((distance,user))\n",
    "    distances.sort()\n",
    "    return distances\n",
    "\n",
    "#推荐\n",
    "def recommend(username,users):\n",
    "    nearest = computeNearestNeighbor(username,users)[0][1]  #得到最近排序第一的username\n",
    "    recommendations = []\n",
    "    neighborRatings = users[nearest] #得到最近排序第一的username的电影列表\n",
    "    userRatings = users[username]  #得到输入username的电影列表\n",
    "    for artist in neighborRatings:\n",
    "        if not artist in userRatings:\n",
    "            recommendations.append((artist,neighborRatings[artist]))\n",
    "    results = sorted(recommendations,key=lambda artistTuple:artist[1],reverse=True) #对电影评分进行排序，最高分在最前\n",
    "    for result in results:\n",
    "        print(result[0],result[1])"
   ]
  },
  {
   "cell_type": "code",
   "execution_count": 13,
   "metadata": {},
   "outputs": [
    {
     "name": "stdout",
     "output_type": "stream",
     "text": [
      "小时代4 5.0\n",
      "匆匆那年 4.0\n",
      "速度与激情7 3.5\n",
      "火星救援 3.5\n",
      "后会无期 4.5\n"
     ]
    }
   ],
   "source": [
    "recommend('隔壁老王',users)"
   ]
  },
  {
   "cell_type": "markdown",
   "metadata": {},
   "source": [
    "#### 隐语义模型\n",
    "![LFM](./隐语义模型.png)"
   ]
  },
  {
   "cell_type": "code",
   "execution_count": 38,
   "metadata": {},
   "outputs": [],
   "source": [
    "#隐语义模型,矩阵分解\n",
    "import numpy as np\n",
    "def matrix_factorization(R,P,Q,K,steps=5000,alpha=0.0002,beta=0.02):\n",
    "    Q=Q.T\n",
    "    for step in range(steps):\n",
    "        for i in range(len(R)):\n",
    "            for j in range(len(R[i])):\n",
    "                if R[i][j]>0:\n",
    "                    eij = R[i][j] - np.dot(P[i,:],Q[:,j])  #损失函数公式\n",
    "                    for k in range(K):\n",
    "                        P[i][k] += alpha*(2*eij*Q[k][j]-beta*P[i][k])\n",
    "                        Q[k][j] += alpha*(2*eij*P[i][k]-beta*Q[k][j])  #加正则化的梯度公式\n",
    "        eR = np.dot(P,Q)\n",
    "        e = 0\n",
    "        for i in range(len(R)):\n",
    "            for j in range(len(R[i])):\n",
    "                if R[i][j]>0:\n",
    "                    e += pow(R[i][j]-np.dot(P[i,:],Q[:,j]),2)\n",
    "                    for k in range(K):\n",
    "                        e += (beta/2)*(pow(P[i][k],2)+pow(Q[k][j],2)) #更新迭代e\n",
    "        if e<0.001:\n",
    "            break\n",
    "    return P,Q.T"
   ]
  },
  {
   "cell_type": "code",
   "execution_count": 39,
   "metadata": {},
   "outputs": [],
   "source": [
    "R = [[5,3,0,1],\n",
    "     [4,0,3,1],\n",
    "     [1,1,0,5],\n",
    "     [1,0,0,4],\n",
    "     [0,1,5,4]]\n",
    "R = np.array(R)\n",
    "N = len(R)\n",
    "M = len(R[0])\n",
    "K = 2\n",
    "\n",
    "P = np.random.rand(N,K)\n",
    "Q = np.random.rand(M,K)\n",
    "\n",
    "nP,nQ = matrix_factorization(R,P,Q,K)\n",
    "nR = np.dot(nP,nQ.T)"
   ]
  },
  {
   "cell_type": "code",
   "execution_count": 40,
   "metadata": {},
   "outputs": [
    {
     "data": {
      "text/plain": [
       "(array([[ 0.81130492,  2.1260465 ],\n",
       "        [ 0.63640411,  1.55505294],\n",
       "        [ 2.08595526, -0.12911803],\n",
       "        [ 1.67386748, -0.08477618],\n",
       "        [ 1.87839318,  0.70002641]]), array([[ 0.67531656,  2.14743732],\n",
       "        [ 0.37777081,  1.14636003],\n",
       "        [ 2.06050739,  1.24536421],\n",
       "        [ 2.34650968, -0.41330348]]))"
      ]
     },
     "execution_count": 40,
     "metadata": {},
     "output_type": "execute_result"
    }
   ],
   "source": [
    "nP,nQ"
   ]
  },
  {
   "cell_type": "code",
   "execution_count": 41,
   "metadata": {},
   "outputs": [
    {
     "data": {
      "text/plain": [
       "(array([[5.11343925, 2.74370205, 4.31940199, 1.02503241],\n",
       "        [3.76915294, 2.02306543, 3.24792263, 0.8506196 ],\n",
       "        [1.13140725, 0.63999726, 4.13732725, 4.94807916],\n",
       "        [0.9483389 , 0.53515426, 3.34343909, 3.96278455],\n",
       "        [2.77177287, 1.51208442, 4.74223086, 4.11834443]]),\n",
       " array([[5, 3, 0, 1],\n",
       "        [4, 0, 3, 1],\n",
       "        [1, 1, 0, 5],\n",
       "        [1, 0, 0, 4],\n",
       "        [0, 1, 5, 4]]))"
      ]
     },
     "execution_count": 41,
     "metadata": {},
     "output_type": "execute_result"
    }
   ],
   "source": [
    "nR,R"
   ]
  }
 ],
 "metadata": {
  "kernelspec": {
   "display_name": "Python 3",
   "language": "python",
   "name": "python3"
  },
  "language_info": {
   "codemirror_mode": {
    "name": "ipython",
    "version": 3
   },
   "file_extension": ".py",
   "mimetype": "text/x-python",
   "name": "python",
   "nbconvert_exporter": "python",
   "pygments_lexer": "ipython3",
   "version": "3.6.7"
  }
 },
 "nbformat": 4,
 "nbformat_minor": 2
}
