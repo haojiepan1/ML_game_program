{
 "cells": [
  {
   "cell_type": "markdown",
   "metadata": {},
   "source": [
    "#### 用协同过滤建模并进行预测"
   ]
  },
  {
   "cell_type": "code",
   "execution_count": 3,
   "metadata": {},
   "outputs": [],
   "source": [
    "#载入库\n",
    "from surprise import SVD\n",
    "from surprise import Dataset\n",
    "from surprise import evaluate,print_perf\n",
    "import warnings\n",
    "warnings ='ignore'"
   ]
  },
  {
   "cell_type": "code",
   "execution_count": 4,
   "metadata": {},
   "outputs": [
    {
     "name": "stderr",
     "output_type": "stream",
     "text": [
      "C:\\ProgramData\\Anaconda3\\lib\\site-packages\\surprise\\evaluate.py:66: UserWarning: The evaluate() method is deprecated. Please use model_selection.cross_validate() instead.\n",
      "  'model_selection.cross_validate() instead.', UserWarning)\n",
      "C:\\ProgramData\\Anaconda3\\lib\\site-packages\\surprise\\dataset.py:193: UserWarning: Using data.split() or using load_from_folds() without using a CV iterator is now deprecated. \n",
      "  UserWarning)\n"
     ]
    },
    {
     "name": "stdout",
     "output_type": "stream",
     "text": [
      "Evaluating RMSE, MAE of algorithm SVD.\n",
      "\n",
      "------------\n",
      "Fold 1\n",
      "RMSE: 0.9491\n",
      "MAE:  0.7487\n",
      "------------\n",
      "Fold 2\n",
      "RMSE: 0.9441\n",
      "MAE:  0.7442\n",
      "------------\n",
      "Fold 3\n",
      "RMSE: 0.9434\n",
      "MAE:  0.7459\n",
      "------------\n",
      "------------\n",
      "Mean RMSE: 0.9456\n",
      "Mean MAE : 0.7463\n",
      "------------\n",
      "------------\n",
      "defaultdict(<class 'list'>, {'rmse': [0.9491131065890082, 0.9441032000022505, 0.9434427242928836], 'mae': [0.7486964804806149, 0.744189938053968, 0.7458796127937699]})\n"
     ]
    }
   ],
   "source": [
    "data = Dataset.load_builtin('ml-100k') #载入movielens数据\n",
    "data.split(n_folds=3)  #k折交叉验证\n",
    "algo = SVD() #尝试SVD矩阵分解\n",
    "perf = evaluate(algo,data,measures=['RMSE','MAE'])  #测试效果\n",
    "print(perf)"
   ]
  },
  {
   "cell_type": "code",
   "execution_count": 24,
   "metadata": {},
   "outputs": [
    {
     "name": "stdout",
     "output_type": "stream",
     "text": [
      "Estimating biases using als...\n",
      "Computing the pearson_baseline similarity matrix...\n",
      "Done computing similarity matrix.\n",
      "\n",
      "the 10 nearest neighbors of Toy Story are:\n",
      "Beauty and the Beast (1991)\n",
      "Raiders of the Lost Ark (1981)\n",
      "That Thing You Do! (1996)\n",
      "Lion King, The (1994)\n",
      "Craft, The (1996)\n",
      "Liar Liar (1997)\n",
      "Aladdin (1992)\n",
      "Cool Hand Luke (1967)\n",
      "Winnie the Pooh and the Blustery Day (1968)\n",
      "Indiana Jones and the Last Crusade (1989)\n"
     ]
    }
   ],
   "source": [
    "import os\n",
    "import io\n",
    "from surprise import KNNBaseline\n",
    "from surprise import Dataset\n",
    "\n",
    "#定义一个获取电影名id和id到电影名的映射函数\n",
    "def read_item_names():\n",
    "    file_name = (os.path.expanduser('~')+'/AppData/Local/lxss/root/.surprise_data/ml-100k/ml-100k/u.item')  #os.path.expanduser得到user路径，然后移除最后的目录部分\n",
    "    rid_to_name = {}\n",
    "    name_to_rid = {}\n",
    "    with io.open(file_name,'r',encoding='ISO-8859-1') as f:\n",
    "        for line in f:\n",
    "            line = line.split('|')\n",
    "            rid_to_name[line[0]]=line[1]\n",
    "            name_to_rid[line[1]]=line[0]\n",
    "    return rid_to_name,name_to_rid\n",
    "\n",
    "data = Dataset.load_builtin('ml-100k')\n",
    "\n",
    "#计算相似度\n",
    "trainset = data.build_full_trainset()\n",
    "sim_options = {'name':'pearson_baseline','user_based':False}\n",
    "algo = KNNBaseline(sim_options=sim_options)\n",
    "algo.train(trainset)\n",
    "\n",
    "#获取id和id映射\n",
    "rid_to_name,name_to_rid = read_item_names()\n",
    "\n",
    "#检索玩具总动员的inner_id\n",
    "toy_story_raw_id = name_to_rid['Toy Story (1995)']\n",
    "toy_story_inner_id = algo.trainset.to_inner_iid(toy_story_raw_id)\n",
    "\n",
    "#检索距离玩具总动员最近邻id\n",
    "toy_story_neighbors = algo.get_neighbors(toy_story_inner_id,k=10)\n",
    "\n",
    "#将检索到的最近邻id转换为名字\n",
    "toy_story_neighbors = (algo.trainset.to_raw_iid(inner_id) for inner_id in toy_story_neighbors)\n",
    "toy_story_neighbors = (rid_to_name[rid] for rid in toy_story_neighbors)\n",
    "\n",
    "print()\n",
    "print('the 10 nearest neighbors of Toy Story are:')\n",
    "for movie in toy_story_neighbors:\n",
    "    print(movie)"
   ]
  }
 ],
 "metadata": {
  "kernelspec": {
   "display_name": "Python 3",
   "language": "python",
   "name": "python3"
  },
  "language_info": {
   "codemirror_mode": {
    "name": "ipython",
    "version": 3
   },
   "file_extension": ".py",
   "mimetype": "text/x-python",
   "name": "python",
   "nbconvert_exporter": "python",
   "pygments_lexer": "ipython3",
   "version": "3.6.7"
  }
 },
 "nbformat": 4,
 "nbformat_minor": 2
}
