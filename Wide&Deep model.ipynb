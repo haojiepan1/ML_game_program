{
 "cells": [
  {
   "cell_type": "code",
   "execution_count": 123,
   "metadata": {},
   "outputs": [],
   "source": [
    "import pandas as pd\n",
    "from keras.models import Sequential\n",
    "from keras.layers import Input,Dense,concatenate\n",
    "from sklearn.preprocessing import MinMaxScaler\n",
    "from keras.models import Model\n",
    "import warnings\n",
    "warnings.filterwarnings('ignore')"
   ]
  },
  {
   "cell_type": "code",
   "execution_count": 124,
   "metadata": {},
   "outputs": [],
   "source": [
    "#所有的数据列\n",
    "COLUMNS = [\n",
    "    \"age\", \"workclass\", \"fnlwgt\", \"education\", \"education_num\", \"marital_status\", \n",
    "    \"occupation\", \"relationship\", \"race\", \"gender\", \"capital_gain\", \"capital_loss\", \n",
    "    \"hours_per_week\", \"native_country\", \"income_bracket\"\n",
    "]\n",
    "\n",
    "#标签列\n",
    "LABEL_COLUMN = \"label\"\n",
    "\n",
    "#类别型特征变量\n",
    "CATEGORICAL_COLUMNS = [\n",
    "    \"workclass\", \"education\", \"marital_status\", \"occupation\", \"relationship\", \n",
    "    \"race\", \"gender\", \"native_country\"\n",
    "]\n",
    "\n",
    "#连续值特征变量\n",
    "CONTINUOUS_COLUMNS = [\n",
    "    \"age\", \"education_num\", \"capital_gain\", \"capital_loss\", \"hours_per_week\"\n",
    "]"
   ]
  },
  {
   "cell_type": "code",
   "execution_count": 125,
   "metadata": {},
   "outputs": [],
   "source": [
    "#加载文件\n",
    "def load(filename):\n",
    "    with open(filename, 'r') as f:\n",
    "        skiprows = 1 if 'test' in filename else 0\n",
    "        df = pd.read_csv(\n",
    "            f, names=COLUMNS, skipinitialspace=True, skiprows=skiprows, engine='python'\n",
    "        )\n",
    "        #缺省值处理\n",
    "        df = df.dropna(how='any', axis=0)\n",
    "    return df"
   ]
  },
  {
   "cell_type": "code",
   "execution_count": 126,
   "metadata": {},
   "outputs": [],
   "source": [
    "#预处理\n",
    "def preprocess(df):\n",
    "    df[LABEL_COLUMN] = df['income_bracket'].apply(lambda x: \">50K\" in x).astype(int)\n",
    "    df.pop(\"income_bracket\")\n",
    "    y = df[LABEL_COLUMN].values\n",
    "    df.pop(LABEL_COLUMN)\n",
    "    \n",
    "    df = pd.get_dummies(df, columns=[x for x in CATEGORICAL_COLUMNS])\n",
    "\n",
    "    # TODO: 对特征进行选择，使得网络更高效\n",
    "    \n",
    "    # TODO: 特征工程，比如加入交叉与组合特征\n",
    "    # from sklearn.preprocessing import PolynomialFeatures\n",
    "    # X = PolynomialFeatures(degree=2, interaction_only=True, include_bias=False).fit_transform(X)\n",
    "    \n",
    "    df = pd.DataFrame(MinMaxScaler().fit_transform(df), columns=df.columns)\n",
    "\n",
    "    X = df.values\n",
    "    return X, y"
   ]
  },
  {
   "cell_type": "code",
   "execution_count": 127,
   "metadata": {},
   "outputs": [],
   "source": [
    "def main():\n",
    "    df_train = load('adult.data')\n",
    "    df_test = load('adult.test')\n",
    "    df = pd.concat([df_train, df_test])\n",
    "    train_len = len(df_train)\n",
    "    \n",
    "    X, y = preprocess(df)\n",
    "    X_train = X[:train_len]\n",
    "    y_train = y[:train_len]\n",
    "    X_test = X[train_len:]\n",
    "    y_test = y[train_len:]\n",
    "    \n",
    "    #Wide部分\n",
    "    wide_inputs = Input(shape=(X_train.shape[1],))\n",
    "    wide=Dense(1, activation='relu')(wide_inputs)\n",
    "    \n",
    "    #Deep部分\n",
    "    # TODO: 添加embedding层\n",
    "    deep_inputs = Input(shape=(X_train.shape[1],))\n",
    "    deep= Dense(input_dim=X_train.shape[1], output_dim=100, activation='relu')(deep_inputs)\n",
    "    #deep.add(Dense(100, activation='relu'))\n",
    "    deep= Dense(input_dim=100, output_dim=32, activation='relu')(deep)\n",
    "    #deep.add(Dense(50, activation='relu'))\n",
    "    deep= Dense(input_dim=32, output_dim=8)(deep)\n",
    "    deep= Dense(1, activation='sigmoid')(deep)\n",
    "    \n",
    "    #Wide和Deep拼接\n",
    "    merge_wide_deep = concatenate([wide, deep])\n",
    "    predictions=Dense(1, activation='sigmoid')(merge_wide_deep)\n",
    "    model = Model(inputs=[wide_inputs,deep_inputs], outputs=predictions)\n",
    "    \n",
    "    #编译模型\n",
    "    model.compile(\n",
    "        optimizer='rmsprop',\n",
    "        loss='binary_crossentropy',\n",
    "        metrics=['accuracy']\n",
    "    )\n",
    "    \n",
    "    #模型训练\n",
    "    model.fit([X_train, X_train], y_train, nb_epoch=10, batch_size=32)\n",
    "    \n",
    "    #loss与准确率评估\n",
    "    loss, accuracy = model.evaluate([X_test, X_test], y_test)\n",
    "    print('\\n', 'test accuracy:', accuracy)"
   ]
  },
  {
   "cell_type": "code",
   "execution_count": 128,
   "metadata": {},
   "outputs": [
    {
     "name": "stdout",
     "output_type": "stream",
     "text": [
      "Epoch 1/10\n",
      "32561/32561 [==============================] - 2s 59us/step - loss: 0.4412 - acc: 0.7747\n",
      "Epoch 2/10\n",
      "32561/32561 [==============================] - 1s 43us/step - loss: 0.3673 - acc: 0.8367\n",
      "Epoch 3/10\n",
      "32561/32561 [==============================] - 1s 44us/step - loss: 0.3513 - acc: 0.8413\n",
      "Epoch 4/10\n",
      "32561/32561 [==============================] - 1s 44us/step - loss: 0.3435 - acc: 0.8431\n",
      "Epoch 5/10\n",
      "32561/32561 [==============================] - 1s 44us/step - loss: 0.3387 - acc: 0.8451\n",
      "Epoch 6/10\n",
      "32561/32561 [==============================] - 1s 45us/step - loss: 0.3355 - acc: 0.8477\n",
      "Epoch 7/10\n",
      "32561/32561 [==============================] - 1s 43us/step - loss: 0.3325 - acc: 0.8486\n",
      "Epoch 8/10\n",
      "32561/32561 [==============================] - 1s 46us/step - loss: 0.3305 - acc: 0.8498\n",
      "Epoch 9/10\n",
      "32561/32561 [==============================] - 1s 46us/step - loss: 0.3285 - acc: 0.8505\n",
      "Epoch 10/10\n",
      "32561/32561 [==============================] - 1s 45us/step - loss: 0.3264 - acc: 0.8513\n",
      "16281/16281 [==============================] - 0s 25us/step\n",
      "\n",
      " test accuracy: 0.8490264725424457\n"
     ]
    }
   ],
   "source": [
    "if __name__ == '__main__':\n",
    "    main()"
   ]
  }
 ],
 "metadata": {
  "kernelspec": {
   "display_name": "Python 3",
   "language": "python",
   "name": "python3"
  },
  "language_info": {
   "codemirror_mode": {
    "name": "ipython",
    "version": 3
   },
   "file_extension": ".py",
   "mimetype": "text/x-python",
   "name": "python",
   "nbconvert_exporter": "python",
   "pygments_lexer": "ipython3",
   "version": "3.6.7"
  }
 },
 "nbformat": 4,
 "nbformat_minor": 2
}
