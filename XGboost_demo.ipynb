{
 "cells": [
  {
   "cell_type": "code",
   "execution_count": 61,
   "metadata": {},
   "outputs": [
    {
     "name": "stdout",
     "output_type": "stream",
     "text": [
      "[11:06:06] 6513x127 matrix with 143286 entries loaded from agaricus.txt.train\n",
      "[11:06:06] 1611x127 matrix with 35442 entries loaded from agaricus.txt.test\n"
     ]
    }
   ],
   "source": [
    "#导入相关库\n",
    "import numpy as np\n",
    "import scipy.sparse\n",
    "# import cPickle\n",
    "import xgboost as xgb\n",
    "import warnings\n",
    "warnings='ignore'\n",
    "\n",
    "dtrain=xgb.DMatrix('agaricus.txt.train')\n",
    "dtest=xgb.DMatrix('agaricus.txt.test')"
   ]
  },
  {
   "cell_type": "code",
   "execution_count": 62,
   "metadata": {},
   "outputs": [
    {
     "name": "stdout",
     "output_type": "stream",
     "text": [
      "[0]\teval-error:0.042831\ttrain-error:0.046522\n",
      "[1]\teval-error:0.021726\ttrain-error:0.022263\n",
      "[2]\teval-error:0.006207\ttrain-error:0.007063\n",
      "[3]\teval-error:0.018001\ttrain-error:0.0152\n",
      "[4]\teval-error:0.006207\ttrain-error:0.007063\n",
      "[5]\teval-error:0\ttrain-error:0.001228\n",
      "[6]\teval-error:0\ttrain-error:0.001228\n",
      "[7]\teval-error:0\ttrain-error:0.001228\n",
      "[8]\teval-error:0\ttrain-error:0.001228\n",
      "[9]\teval-error:0\ttrain-error:0\n"
     ]
    }
   ],
   "source": [
    "#简单训练xgb\n",
    "param={'max_depth':2,'eta':1,'silent':1,'objective':'binary:logistic'}  \n",
    "#max_depth设置树的最大深度,defult=6;eta可以视作学习率,defult=0.3,取值范围[0,1];objective损失函数，binary:logistic是二分类的逻辑回归，defult=reg:linear线性回归\n",
    "watch_list = [(dtest,'eval'),(dtrain,'train')]  #也叫eval_list()可以对比训练集和测试集上的评价指标的变化\n",
    "num_round = 10\n",
    "model = xgb.train(param,dtrain,num_round,watch_list)"
   ]
  },
  {
   "cell_type": "code",
   "execution_count": 63,
   "metadata": {},
   "outputs": [
    {
     "data": {
      "text/plain": [
       "0"
      ]
     },
     "execution_count": 63,
     "metadata": {},
     "output_type": "execute_result"
    }
   ],
   "source": [
    "#预测\n",
    "pred = model.predict(dtest)\n",
    "labels = dtest.get_label()\n",
    "error_num = sum([index for index in range(len(pred)) if int(pred[index]>0.5)!=labels[index]])\n",
    "error_num"
   ]
  },
  {
   "cell_type": "code",
   "execution_count": 64,
   "metadata": {},
   "outputs": [],
   "source": [
    "#存储模型\n",
    "model.dump_model('1.model')"
   ]
  },
  {
   "cell_type": "code",
   "execution_count": 65,
   "metadata": {},
   "outputs": [
    {
     "name": "stdout",
     "output_type": "stream",
     "text": [
      "[11:06:06] 6513x127 matrix with 143286 entries loaded from agaricus.txt.train\n"
     ]
    },
    {
     "data": {
      "text/html": [
       "<div>\n",
       "<style scoped>\n",
       "    .dataframe tbody tr th:only-of-type {\n",
       "        vertical-align: middle;\n",
       "    }\n",
       "\n",
       "    .dataframe tbody tr th {\n",
       "        vertical-align: top;\n",
       "    }\n",
       "\n",
       "    .dataframe thead th {\n",
       "        text-align: right;\n",
       "    }\n",
       "</style>\n",
       "<table border=\"1\" class=\"dataframe\">\n",
       "  <thead>\n",
       "    <tr style=\"text-align: right;\">\n",
       "      <th></th>\n",
       "      <th>train-error-mean</th>\n",
       "      <th>train-error-std</th>\n",
       "      <th>test-error-mean</th>\n",
       "      <th>test-error-std</th>\n",
       "    </tr>\n",
       "  </thead>\n",
       "  <tbody>\n",
       "    <tr>\n",
       "      <th>0</th>\n",
       "      <td>0.046522</td>\n",
       "      <td>0.001452</td>\n",
       "      <td>0.046524</td>\n",
       "      <td>0.005809</td>\n",
       "    </tr>\n",
       "    <tr>\n",
       "      <th>1</th>\n",
       "      <td>0.022263</td>\n",
       "      <td>0.000933</td>\n",
       "      <td>0.022264</td>\n",
       "      <td>0.003733</td>\n",
       "    </tr>\n",
       "    <tr>\n",
       "      <th>2</th>\n",
       "      <td>0.007063</td>\n",
       "      <td>0.000255</td>\n",
       "      <td>0.007063</td>\n",
       "      <td>0.001020</td>\n",
       "    </tr>\n",
       "    <tr>\n",
       "      <th>3</th>\n",
       "      <td>0.015200</td>\n",
       "      <td>0.000562</td>\n",
       "      <td>0.015201</td>\n",
       "      <td>0.002246</td>\n",
       "    </tr>\n",
       "    <tr>\n",
       "      <th>4</th>\n",
       "      <td>0.007063</td>\n",
       "      <td>0.000255</td>\n",
       "      <td>0.007063</td>\n",
       "      <td>0.001020</td>\n",
       "    </tr>\n",
       "  </tbody>\n",
       "</table>\n",
       "</div>"
      ],
      "text/plain": [
       "   train-error-mean  train-error-std  test-error-mean  test-error-std\n",
       "0          0.046522         0.001452         0.046524        0.005809\n",
       "1          0.022263         0.000933         0.022264        0.003733\n",
       "2          0.007063         0.000255         0.007063        0.001020\n",
       "3          0.015200         0.000562         0.015201        0.002246\n",
       "4          0.007063         0.000255         0.007063        0.001020"
      ]
     },
     "execution_count": 65,
     "metadata": {},
     "output_type": "execute_result"
    }
   ],
   "source": [
    "#kfold交叉验证\n",
    "import numpy as np\n",
    "import xgboost as xgb\n",
    "dtrain = xgb.DMatrix('agaricus.txt.train')\n",
    "param = {'max_depth':2,'eta':1,'silent':1,'objective':'binary:logistic'}  #silent表示是否在构造过程中打印消息\n",
    "num_round = 5\n",
    "xgb.cv(param,dtrain,num_round,nfold=5,metrics={'error'},seed=1128)"
   ]
  },
  {
   "cell_type": "code",
   "execution_count": 66,
   "metadata": {},
   "outputs": [
    {
     "data": {
      "text/html": [
       "<div>\n",
       "<style scoped>\n",
       "    .dataframe tbody tr th:only-of-type {\n",
       "        vertical-align: middle;\n",
       "    }\n",
       "\n",
       "    .dataframe tbody tr th {\n",
       "        vertical-align: top;\n",
       "    }\n",
       "\n",
       "    .dataframe thead th {\n",
       "        text-align: right;\n",
       "    }\n",
       "</style>\n",
       "<table border=\"1\" class=\"dataframe\">\n",
       "  <thead>\n",
       "    <tr style=\"text-align: right;\">\n",
       "      <th></th>\n",
       "      <th>train-auc-mean</th>\n",
       "      <th>train-auc-std</th>\n",
       "      <th>test-auc-mean</th>\n",
       "      <th>test-auc-std</th>\n",
       "    </tr>\n",
       "  </thead>\n",
       "  <tbody>\n",
       "    <tr>\n",
       "      <th>0</th>\n",
       "      <td>0.958226</td>\n",
       "      <td>0.001365</td>\n",
       "      <td>0.958203</td>\n",
       "      <td>0.005445</td>\n",
       "    </tr>\n",
       "    <tr>\n",
       "      <th>1</th>\n",
       "      <td>0.981412</td>\n",
       "      <td>0.000611</td>\n",
       "      <td>0.981395</td>\n",
       "      <td>0.002421</td>\n",
       "    </tr>\n",
       "    <tr>\n",
       "      <th>2</th>\n",
       "      <td>0.997069</td>\n",
       "      <td>0.000277</td>\n",
       "      <td>0.997048</td>\n",
       "      <td>0.001102</td>\n",
       "    </tr>\n",
       "    <tr>\n",
       "      <th>3</th>\n",
       "      <td>0.998669</td>\n",
       "      <td>0.000194</td>\n",
       "      <td>0.998531</td>\n",
       "      <td>0.000497</td>\n",
       "    </tr>\n",
       "    <tr>\n",
       "      <th>4</th>\n",
       "      <td>0.998857</td>\n",
       "      <td>0.000418</td>\n",
       "      <td>0.998367</td>\n",
       "      <td>0.001298</td>\n",
       "    </tr>\n",
       "  </tbody>\n",
       "</table>\n",
       "</div>"
      ],
      "text/plain": [
       "   train-auc-mean  train-auc-std  test-auc-mean  test-auc-std\n",
       "0        0.958226       0.001365       0.958203      0.005445\n",
       "1        0.981412       0.000611       0.981395      0.002421\n",
       "2        0.997069       0.000277       0.997048      0.001102\n",
       "3        0.998669       0.000194       0.998531      0.000497\n",
       "4        0.998857       0.000418       0.998367      0.001298"
      ]
     },
     "execution_count": 66,
     "metadata": {},
     "output_type": "execute_result"
    }
   ],
   "source": [
    "#预处理样本权重\n",
    "def preproc(dtrain,dtest,param):\n",
    "    labels=dtrain.get_label()\n",
    "    ratio=float(np.sum(labels==0))/np.sum(labels==1)\n",
    "    param['scale_pos_weight']=ratio  #scale_pos_weight是一个样本权重的参数\n",
    "    return dtrain,dtest,param \n",
    "\n",
    "xgb.cv(param,dtrain,num_round,nfold=5,metrics={'auc'},seed=1128,fpreproc=preproc)"
   ]
  },
  {
   "cell_type": "code",
   "execution_count": 69,
   "metadata": {},
   "outputs": [
    {
     "name": "stdout",
     "output_type": "stream",
     "text": [
      "[0]\teval-rmse:1.59229\ttrain-rmse:1.59597\teval-error:0.042831\ttrain-error:0.046522\n",
      "[1]\teval-rmse:2.40519\ttrain-rmse:2.40977\teval-error:0.021726\ttrain-error:0.022263\n",
      "[2]\teval-rmse:2.88253\ttrain-rmse:2.87459\teval-error:0.006207\ttrain-error:0.007063\n",
      "[3]\teval-rmse:3.62808\ttrain-rmse:3.63621\teval-error:0.018001\ttrain-error:0.0152\n",
      "[4]\teval-rmse:3.80794\ttrain-rmse:3.83893\teval-error:0.006207\ttrain-error:0.007063\n"
     ]
    }
   ],
   "source": [
    "#自定义目标函数（损失函数）与交叉验证\n",
    "def logregobj(pred,dtrain):  #log似然函数\n",
    "    labels=dtrain.get_label()\n",
    "    pred=1.0/(1+np.exp(-pred)) #预测的y值\n",
    "    grad=pred-labels   #log函数一阶导数\n",
    "    hess=pred*(1-pred) #二阶导数，具体求导过程可以看：https://blog.csdn.net/qq_36231549/article/details/81411932\n",
    "    return grad,hess\n",
    "\n",
    "def evalerror(pred,dtrain):\n",
    "    labels=dtrain.get_label()\n",
    "    return 'error',float(sum(labels!=(pred>0.0)))/len(labels)\n",
    "\n",
    "param = {'max_depth':2,'eta':1,'silent':1} #silent:0表示输出信息， 1表示安静模式\n",
    "model = xgb.train(param,dtrain,num_round,watch_list,logregobj,evalerror)"
   ]
  },
  {
   "cell_type": "code",
   "execution_count": 74,
   "metadata": {},
   "outputs": [
    {
     "data": {
      "text/html": [
       "<div>\n",
       "<style scoped>\n",
       "    .dataframe tbody tr th:only-of-type {\n",
       "        vertical-align: middle;\n",
       "    }\n",
       "\n",
       "    .dataframe tbody tr th {\n",
       "        vertical-align: top;\n",
       "    }\n",
       "\n",
       "    .dataframe thead th {\n",
       "        text-align: right;\n",
       "    }\n",
       "</style>\n",
       "<table border=\"1\" class=\"dataframe\">\n",
       "  <thead>\n",
       "    <tr style=\"text-align: right;\">\n",
       "      <th></th>\n",
       "      <th>train-error-mean</th>\n",
       "      <th>train-error-std</th>\n",
       "      <th>train-rmse-mean</th>\n",
       "      <th>train-rmse-std</th>\n",
       "      <th>test-error-mean</th>\n",
       "      <th>test-error-std</th>\n",
       "      <th>test-rmse-mean</th>\n",
       "      <th>test-rmse-std</th>\n",
       "    </tr>\n",
       "  </thead>\n",
       "  <tbody>\n",
       "    <tr>\n",
       "      <th>0</th>\n",
       "      <td>0.046522</td>\n",
       "      <td>0.001452</td>\n",
       "      <td>1.594731</td>\n",
       "      <td>0.003350</td>\n",
       "      <td>0.046524</td>\n",
       "      <td>0.005809</td>\n",
       "      <td>1.594990</td>\n",
       "      <td>0.008446</td>\n",
       "    </tr>\n",
       "    <tr>\n",
       "      <th>1</th>\n",
       "      <td>0.022263</td>\n",
       "      <td>0.000933</td>\n",
       "      <td>2.403637</td>\n",
       "      <td>0.007729</td>\n",
       "      <td>0.022264</td>\n",
       "      <td>0.003733</td>\n",
       "      <td>2.403963</td>\n",
       "      <td>0.015202</td>\n",
       "    </tr>\n",
       "    <tr>\n",
       "      <th>2</th>\n",
       "      <td>0.007063</td>\n",
       "      <td>0.000255</td>\n",
       "      <td>2.856347</td>\n",
       "      <td>0.010825</td>\n",
       "      <td>0.007063</td>\n",
       "      <td>0.001020</td>\n",
       "      <td>2.856422</td>\n",
       "      <td>0.011791</td>\n",
       "    </tr>\n",
       "    <tr>\n",
       "      <th>3</th>\n",
       "      <td>0.015200</td>\n",
       "      <td>0.000562</td>\n",
       "      <td>3.619278</td>\n",
       "      <td>0.006915</td>\n",
       "      <td>0.015201</td>\n",
       "      <td>0.002246</td>\n",
       "      <td>3.619003</td>\n",
       "      <td>0.019334</td>\n",
       "    </tr>\n",
       "    <tr>\n",
       "      <th>4</th>\n",
       "      <td>0.004530</td>\n",
       "      <td>0.002917</td>\n",
       "      <td>3.867662</td>\n",
       "      <td>0.106169</td>\n",
       "      <td>0.005527</td>\n",
       "      <td>0.002677</td>\n",
       "      <td>3.866511</td>\n",
       "      <td>0.120997</td>\n",
       "    </tr>\n",
       "  </tbody>\n",
       "</table>\n",
       "</div>"
      ],
      "text/plain": [
       "   train-error-mean  train-error-std  train-rmse-mean  train-rmse-std  \\\n",
       "0          0.046522         0.001452         1.594731        0.003350   \n",
       "1          0.022263         0.000933         2.403637        0.007729   \n",
       "2          0.007063         0.000255         2.856347        0.010825   \n",
       "3          0.015200         0.000562         3.619278        0.006915   \n",
       "4          0.004530         0.002917         3.867662        0.106169   \n",
       "\n",
       "   test-error-mean  test-error-std  test-rmse-mean  test-rmse-std  \n",
       "0         0.046524        0.005809        1.594990       0.008446  \n",
       "1         0.022264        0.003733        2.403963       0.015202  \n",
       "2         0.007063        0.001020        2.856422       0.011791  \n",
       "3         0.015201        0.002246        3.619003       0.019334  \n",
       "4         0.005527        0.002677        3.866511       0.120997  "
      ]
     },
     "execution_count": 74,
     "metadata": {},
     "output_type": "execute_result"
    }
   ],
   "source": [
    "#5折交叉验证\n",
    "xgb.cv(param,dtrain,num_round,nfold=5,seed=1128,obj=logregobj,feval=evalerror) #显示自定义的损失函数和评价指标"
   ]
  },
  {
   "cell_type": "code",
   "execution_count": 75,
   "metadata": {},
   "outputs": [
    {
     "name": "stdout",
     "output_type": "stream",
     "text": [
      "('error', 0.04283054003724395)\n"
     ]
    }
   ],
   "source": [
    "#用一颗树做预测\n",
    "pred1=model.predict(dtest,ntree_limit=1)\n",
    "print(evalerror(pred1,dtest))"
   ]
  },
  {
   "cell_type": "code",
   "execution_count": 76,
   "metadata": {},
   "outputs": [
    {
     "name": "stdout",
     "output_type": "stream",
     "text": [
      "('error', 0.021725636250775917)\n"
     ]
    }
   ],
   "source": [
    "#用两颗树做预测\n",
    "pred2=model.predict(dtest,ntree_limit=2)\n",
    "print(evalerror(pred2,dtest))"
   ]
  },
  {
   "cell_type": "code",
   "execution_count": 77,
   "metadata": {},
   "outputs": [
    {
     "name": "stdout",
     "output_type": "stream",
     "text": [
      "('error', 0.006207324643078833)\n"
     ]
    }
   ],
   "source": [
    "#用三颗树做预测\n",
    "pred3=model.predict(dtest,ntree_limit=3)\n",
    "print(evalerror(pred3,dtest))"
   ]
  },
  {
   "cell_type": "code",
   "execution_count": 79,
   "metadata": {},
   "outputs": [
    {
     "data": {
      "image/png": "[encoded data removed]",
      "text/plain": [
       "<Figure size 432x288 with 1 Axes>"
      ]
     },
     "metadata": {
      "needs_background": "light"
     },
     "output_type": "display_data"
    }
   ],
   "source": [
    "#画出特征重要度\n",
    "%matplotlib inline\n",
    "from xgboost import plot_importance\n",
    "import matplotlib.pyplot as plt\n",
    "plot_importance(model,max_num_features=10)\n",
    "plt.show()"
   ]
  },
  {
   "cell_type": "code",
   "execution_count": 81,
   "metadata": {},
   "outputs": [],
   "source": [
    "import numpy as np\n",
    "import xgboost as xgb\n",
    "from sklearn.model_selection import KFold,train_test_split,GridSearchCV\n",
    "from sklearn.metrics import confusion_matrix,mean_squared_error  \n",
    "from sklearn.datasets import load_iris,load_digits,load_boston "
   ]
  },
  {
   "cell_type": "code",
   "execution_count": 95,
   "metadata": {},
   "outputs": [
    {
     "name": "stdout",
     "output_type": "stream",
     "text": [
      "(1797, 64) (1797,)\n",
      "\n",
      "[[ 87   0   0   0   0   2   0   0   1   0]\n",
      " [  0  84   2   0   0   0   1   0   0   1]\n",
      " [  0   1  81   4   0   0   0   0   1   1]\n",
      " [  0   0   0  90   0   1   0   2   4   1]\n",
      " [  0   2   0   0  80   0   1   0   2   0]\n",
      " [  0   1   0   0   0  74   0   0   1   2]\n",
      " [  0   0   1   0   0   1 102   0   2   0]\n",
      " [  0   0   0   0   0   0   0  93   2   1]\n",
      " [  0   3   0   1   0   0   0   2  76   1]\n",
      " [  0   1   0   0   0   1   0   0   2  83]]\n",
      "[[88  0  0  0  0  0  0  0  0  0]\n",
      " [ 0 86  1  1  0  0  0  0  1  5]\n",
      " [ 1  1 86  0  0  0  1  0  0  0]\n",
      " [ 0  0  2 81  0  1  0  0  0  1]\n",
      " [ 0  0  0  0 93  0  0  1  2  0]\n",
      " [ 0  0  0  0  1 96  1  0  0  6]\n",
      " [ 0  0  0  0  1  0 72  0  2  0]\n",
      " [ 0  0  0  1  0  1  0 80  0  1]\n",
      " [ 0  3  1  0  0  1  0  0 86  0]\n",
      " [ 1  0  0  2  0  0  0  4  5 81]]\n"
     ]
    }
   ],
   "source": [
    "#用xgboost建模，sklearn评估\n",
    "#二分类问题用混淆矩阵评估\n",
    "digits = load_digits()\n",
    "y=digits['target']\n",
    "x=digits['data']\n",
    "print(x.shape,y.shape)\n",
    "print(\"\")\n",
    "#k折切分\n",
    "kf = KFold(n_splits=2,shuffle=True,random_state=1128)\n",
    "for train_index,test_index in kf.split(x):  #kf.split返回切分数据的索引\n",
    "    xgboost_model = xgb.XGBClassifier().fit(x[train_index],y[train_index])\n",
    "    pred = xgboost_model.predict(x[test_index])\n",
    "    ground_truth = y[test_index]\n",
    "    print(confusion_matrix(ground_truth,pred)) #混淆矩阵参考链接：https://blog.csdn.net/Orange_Spotty_Cat/article/details/80520839"
   ]
  },
  {
   "cell_type": "code",
   "execution_count": 96,
   "metadata": {},
   "outputs": [
    {
     "name": "stdout",
     "output_type": "stream",
     "text": [
      "[[29  0  0]\n",
      " [ 0 23  3]\n",
      " [ 0  0 20]]\n",
      "[[21  0  0]\n",
      " [ 0 24  0]\n",
      " [ 0  2 28]]\n"
     ]
    }
   ],
   "source": [
    "#多分类\n",
    "iris = load_iris()\n",
    "y_iris = iris['target']\n",
    "x_iris = iris['data']\n",
    "kf = KFold(n_splits=2,shuffle=True,random_state=1128)\n",
    "for train_index,test_index in kf.split(x_iris):\n",
    "    xgboost_model = xgb.XGBClassifier().fit(x_iris[train_index],y_iris[train_index])\n",
    "    pred = xgboost_model.predict(x_iris[test_index])\n",
    "    ground_truth = y_iris[test_index]\n",
    "    print(confusion_matrix(ground_truth,pred))"
   ]
  },
  {
   "cell_type": "code",
   "execution_count": 99,
   "metadata": {},
   "outputs": [
    {
     "name": "stderr",
     "output_type": "stream",
     "text": [
      "C:\\ProgramData\\Anaconda3\\lib\\site-packages\\sklearn\\model_selection\\_split.py:2053: FutureWarning: You should specify a value for 'cv' instead of relying on the default value. The default value will change from 3 to 5 in version 0.22.\n",
      "  warnings.warn(CV_WARNING, FutureWarning)\n"
     ]
    },
    {
     "name": "stdout",
     "output_type": "stream",
     "text": [
      "XGBRegressor(base_score=0.5, booster='gbtree', colsample_bylevel=1,\n",
      "       colsample_bytree=1, gamma=0, learning_rate=0.1, max_delta_step=0,\n",
      "       max_depth=4, min_child_weight=1, missing=None, n_estimator=50,\n",
      "       n_estimators=100, n_jobs=1, nthread=None, objective='reg:linear',\n",
      "       random_state=0, reg_alpha=0, reg_lambda=1, scale_pos_weight=1,\n",
      "       seed=None, silent=True, subsample=1)\n",
      "0.6001029721598573\n"
     ]
    },
    {
     "name": "stderr",
     "output_type": "stream",
     "text": [
      "C:\\ProgramData\\Anaconda3\\lib\\site-packages\\sklearn\\model_selection\\_search.py:841: DeprecationWarning: The default of the `iid` parameter will change from True to False in version 0.22 and will be removed in 0.24. This will change numeric results when test-set sizes are unequal.\n",
      "  DeprecationWarning)\n"
     ]
    }
   ],
   "source": [
    "#回归问题\n",
    "boston = load_boston()\n",
    "x_boston = boston['data']\n",
    "y_boston = boston['target']\n",
    "xgb_model = xgb.XGBRegressor()\n",
    "param_dict = {'max_depth':[2,4,6],'n_estimator':[50,100,200]}\n",
    "rgs = GridSearchCV(xgb_model,param_dict)\n",
    "rgs.fit(x_boston,y_boston)\n",
    "print(rgs.best_estimator_)  #最好的模型参数\n",
    "print(rgs.best_score_)  #最高得分"
   ]
  },
  {
   "cell_type": "code",
   "execution_count": null,
   "metadata": {},
   "outputs": [],
   "source": []
  }
 ],
 "metadata": {
  "kernelspec": {
   "display_name": "Python 3",
   "language": "python",
   "name": "python3"
  },
  "language_info": {
   "codemirror_mode": {
    "name": "ipython",
    "version": 3
   },
   "file_extension": ".py",
   "mimetype": "text/x-python",
   "name": "python",
   "nbconvert_exporter": "python",
   "pygments_lexer": "ipython3",
   "version": "3.6.7"
  }
 },
 "nbformat": 4,
 "nbformat_minor": 2
}
